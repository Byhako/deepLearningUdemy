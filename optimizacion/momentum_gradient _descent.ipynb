{
 "cells": [
  {
   "cell_type": "markdown",
   "metadata": {},
   "source": [
    "# Funciones de Optimización: Momentum Gradient Descent"
   ]
  },
  {
   "cell_type": "markdown",
   "metadata": {},
   "source": [
    "## Conjunto de datos"
   ]
  },
  {
   "cell_type": "markdown",
   "metadata": {},
   "source": [
    "Este es un conjunto de datos de 11.228 noticias de Reuters, etiquetadas en 46 temas.\n",
    "\n",
    "Esto fue originalmente generado por el análisis y preprocesamiento del clásico conjunto de datos de Reuters-21578, pero el código de preprocesamiento ya no está empaquetado con Keras. \n",
    "\n",
    "Cada noticia está codificado como una lista de índices de palabras (números enteros). Para mayor comodidad, las palabras se indexan por la frecuencia general en el conjunto de datos, de modo que, por ejemplo, el número entero \"3\" codifica la tercera palabra más frecuente en los datos. Esto permite realizar operaciones de filtrado rápido como: \"considerar sólo las 10.000 palabras más comunes, pero eliminar las 20 palabras más comunes\"."
   ]
  },
  {
   "cell_type": "markdown",
   "metadata": {},
   "source": [
    "## 1. Cargando el conjunto de datos"
   ]
  },
  {
   "cell_type": "code",
   "execution_count": 1,
   "metadata": {},
   "outputs": [],
   "source": [
    "from keras.datasets import reuters"
   ]
  },
  {
   "cell_type": "code",
   "execution_count": 2,
   "metadata": {},
   "outputs": [],
   "source": [
    "(train_data, train_labels), (test_data, test_labels) = reuters.load_data(num_words=10000)"
   ]
  },
  {
   "cell_type": "markdown",
   "metadata": {},
   "source": [
    "El argumento _num_words_ indica que únicamente tendremos en cuenta las 10.000 palabras más frecuentes del conjunto de datos. Por lo tanto, el resto de palabras que sean poco frecuentes, serán descartadas y no formarán parte de las reseñas con las que entrenaremos y probaremos el algoritmo."
   ]
  },
  {
   "cell_type": "markdown",
   "metadata": {},
   "source": [
    "Tanto _train_data_ como _test_data_ se corresponden con una lista de noticias. Cada una de las noticias se corresponde con una lista de números enteros que representan el índice de una palabra. Para conocer que índice tiene cada palabra, podemos llamar al método _get_word_index()_"
   ]
  },
  {
   "cell_type": "code",
   "execution_count": 3,
   "metadata": {},
   "outputs": [],
   "source": [
    "# Índices de las palabras\n",
    "word_index = reuters.get_word_index()"
   ]
  },
  {
   "cell_type": "code",
   "execution_count": 4,
   "metadata": {},
   "outputs": [
    {
     "name": "stdout",
     "output_type": "stream",
     "text": [
      "Trainning data: 8982\n",
      "Testing data: 2246\n"
     ]
    }
   ],
   "source": [
    "print(\"Trainning data:\", len(train_data))\n",
    "print(\"Testing data:\", len(test_data))"
   ]
  },
  {
   "cell_type": "code",
   "execution_count": 5,
   "metadata": {},
   "outputs": [
    {
     "name": "stdout",
     "output_type": "stream",
     "text": [
      "[1, 2, 2, 8, 43, 10, 447, 5, 25, 207, 270, 5, 3095, 111, 16, 369, 186, 90, 67, 7, 89, 5, 19, 102, 6, 19, 124, 15, 90, 67, 84, 22, 482, 26, 7, 48, 4, 49, 8, 864, 39, 209, 154, 6, 151, 6, 83, 11, 15, 22, 155, 11, 15, 7, 48, 9, 4579, 1005, 504, 6, 258, 6, 272, 11, 15, 22, 134, 44, 11, 15, 16, 8, 197, 1245, 90, 67, 52, 29, 209, 30, 32, 132, 6, 109, 15, 17, 12]\n"
     ]
    }
   ],
   "source": [
    "# Primer artículo del conjunto de datos de entrenamiento\n",
    "print(train_data[0])"
   ]
  },
  {
   "cell_type": "code",
   "execution_count": 8,
   "metadata": {},
   "outputs": [
    {
     "data": {
      "text/plain": [
       "'(1) (2) (2) said as a result of its december acquisition of space co it expects earnings per share in 1987 of 1 15 to 1 30 dlrs per share up from 70 cts in 1986 the company said pretax net should rise to nine to 10 mln dlrs from six mln dlrs in 1986 and rental operation revenues to 19 to 22 mln dlrs from 12 5 mln dlrs it said cash flow per share this year should be 2 50 to three dlrs reuter 3'"
      ]
     },
     "execution_count": 8,
     "metadata": {},
     "output_type": "execute_result"
    }
   ],
   "source": [
    "reversed_word_index = {v: k for k, v in word_index.items()}\n",
    "' '.join([reversed_word_index.get(i - 3, '(' + str(i) + ')') for i in train_data[0]])"
   ]
  },
  {
   "cell_type": "markdown",
   "metadata": {},
   "source": [
    "Las variables _train_labels_ y _test_labels_ se corresponden con una lista de valores que se encuentran en la siguiente lista (*):\n",
    "```\n",
    "\"reuters\":\n",
    "  ['cocoa','grain','veg-oil','earn','acq','wheat','copper','housing','money-supply',\n",
    "   'coffee','sugar','trade','reserves','ship','cotton','carcass','crude','nat-gas',\n",
    "   'cpi','money-fx','interest','gnp','meal-feed','alum','oilseed','gold','tin',\n",
    "   'strategic-metal','livestock','retail','ipi','iron-steel','rubber','heat','jobs',\n",
    "   'lei','bop','zinc','orange','pet-chem','dlr','gas','silver','wpi','hog','lead'],\n",
    "```\n",
    "(*) https://github.com/keras-team/keras/issues/12072"
   ]
  },
  {
   "cell_type": "code",
   "execution_count": 15,
   "metadata": {},
   "outputs": [
    {
     "data": {
      "text/plain": [
       "array([ 3,  4,  3, ..., 25,  3, 25], dtype=int64)"
      ]
     },
     "execution_count": 15,
     "metadata": {},
     "output_type": "execute_result"
    }
   ],
   "source": [
    "train_labels"
   ]
  },
  {
   "cell_type": "markdown",
   "metadata": {},
   "source": [
    "## Preprocesamiento del conjunto de datos"
   ]
  },
  {
   "cell_type": "markdown",
   "metadata": {},
   "source": [
    "A pesar de que ya tenemos codificadas las reseñas para que esten representadas por valores numéricos en lugar de por cadenas de texto, existen algunos factores que no permiten que sean conjuntos de datos apropiados para proporcionarle a una red neuronal artifical."
   ]
  },
  {
   "cell_type": "code",
   "execution_count": 16,
   "metadata": {},
   "outputs": [],
   "source": [
    "import numpy as np\n",
    "\n",
    "def vectorize(seqs, dim=10000):\n",
    "    results = np.zeros((len(seqs), dim))\n",
    "    for i, seq in enumerate(seqs):\n",
    "        results[i, seq] = 1.\n",
    "    return results"
   ]
  },
  {
   "cell_type": "markdown",
   "metadata": {},
   "source": [
    "Vectorizamos tanto el conjunto de datos de entrenamiento, como el conjunto de datos de pruebas."
   ]
  },
  {
   "cell_type": "code",
   "execution_count": 17,
   "metadata": {},
   "outputs": [],
   "source": [
    "# Vectorizamos el conjunto de datos de entrenamiento y el de pruebas\n",
    "X_train = vectorize(train_data, 10000)\n",
    "X_test = vectorize(test_data, 10000)"
   ]
  },
  {
   "cell_type": "code",
   "execution_count": 18,
   "metadata": {},
   "outputs": [
    {
     "name": "stdout",
     "output_type": "stream",
     "text": [
      "Valores originales:\t [1, 2, 2, 8, 43, 10, 447, 5, 25, 207, 270, 5, 3095, 111, 16]\n",
      "Valores vectorizados:\t [0. 1. 1. 0. 1. 1. 1. 1. 1. 1. 1. 1. 1. 0. 0.]\n"
     ]
    }
   ],
   "source": [
    "# Cada una de las reseñas se corresponde con un vector formado por 1s y 0s\n",
    "print(\"Valores originales:\\t\", train_data[0][:15])\n",
    "print(\"Valores vectorizados:\\t\", X_train[0][:15])"
   ]
  },
  {
   "cell_type": "code",
   "execution_count": 19,
   "metadata": {},
   "outputs": [],
   "source": [
    "# Transformamos las etiquetas de salida en vectores\n",
    "from keras.utils import to_categorical\n",
    "\n",
    "Y_train = to_categorical(train_labels)\n",
    "Y_test = to_categorical(test_labels)"
   ]
  },
  {
   "cell_type": "code",
   "execution_count": 20,
   "metadata": {},
   "outputs": [
    {
     "data": {
      "text/plain": [
       "3"
      ]
     },
     "execution_count": 20,
     "metadata": {},
     "output_type": "execute_result"
    }
   ],
   "source": [
    "train_labels[0]"
   ]
  },
  {
   "cell_type": "code",
   "execution_count": 21,
   "metadata": {},
   "outputs": [
    {
     "data": {
      "text/plain": [
       "array([0., 0., 0., 1., 0., 0., 0., 0., 0., 0., 0., 0., 0., 0., 0., 0., 0.,\n",
       "       0., 0., 0., 0., 0., 0., 0., 0., 0., 0., 0., 0., 0., 0., 0., 0., 0.,\n",
       "       0., 0., 0., 0., 0., 0., 0., 0., 0., 0., 0., 0.], dtype=float32)"
      ]
     },
     "execution_count": 21,
     "metadata": {},
     "output_type": "execute_result"
    }
   ],
   "source": [
    "Y_train[0]"
   ]
  },
  {
   "cell_type": "markdown",
   "metadata": {},
   "source": [
    "## División del conjunto de datos "
   ]
  },
  {
   "cell_type": "code",
   "execution_count": 22,
   "metadata": {},
   "outputs": [],
   "source": [
    "from sklearn.model_selection import train_test_split\n",
    "\n",
    "X_test, X_val, Y_test, Y_val = train_test_split(X_test, Y_test, test_size=0.5)"
   ]
  },
  {
   "cell_type": "code",
   "execution_count": 23,
   "metadata": {},
   "outputs": [
    {
     "name": "stdout",
     "output_type": "stream",
     "text": [
      "Longitud subconjunto de entrenamiento:  8982\n",
      "Longitud subconjunto de validación:  1123\n",
      "Longitud subconjunto de pruebas:  1123\n"
     ]
    }
   ],
   "source": [
    "print(\"Longitud subconjunto de entrenamiento: \", len(X_train))\n",
    "print(\"Longitud subconjunto de validación: \", len(X_val))\n",
    "print(\"Longitud subconjunto de pruebas: \", len(X_test))"
   ]
  },
  {
   "cell_type": "markdown",
   "metadata": {},
   "source": [
    "## Construcción de la red neuronal artificial"
   ]
  },
  {
   "cell_type": "code",
   "execution_count": 24,
   "metadata": {},
   "outputs": [],
   "source": [
    "from keras import models, layers, optimizers\n",
    "\n",
    "model = models.Sequential()\n",
    "model.add(layers.Dense(512, activation='relu'))\n",
    "model.add(layers.Dense(46, activation='softmax'))"
   ]
  },
  {
   "cell_type": "code",
   "execution_count": 25,
   "metadata": {},
   "outputs": [],
   "source": [
    "opt_func = optimizers.SGD(learning_rate=0.01, momentum=0.2)"
   ]
  },
  {
   "cell_type": "code",
   "execution_count": 26,
   "metadata": {},
   "outputs": [],
   "source": [
    "model.compile(\n",
    "    optimizer=opt_func,\n",
    "    loss='categorical_crossentropy',\n",
    "    metrics=['accuracy', 'Precision']\n",
    ")"
   ]
  },
  {
   "cell_type": "code",
   "execution_count": null,
   "metadata": {},
   "outputs": [],
   "source": [
    "len(X_train) / 32"
   ]
  },
  {
   "cell_type": "code",
   "execution_count": 27,
   "metadata": {},
   "outputs": [
    {
     "name": "stdout",
     "output_type": "stream",
     "text": [
      "Epoch 1/30\n",
      "281/281 [==============================] - 13s 44ms/step - loss: 2.2710 - accuracy: 0.5060 - precision: 0.9311 - val_loss: 1.7434 - val_accuracy: 0.5922 - val_precision: 0.9310\n",
      "Epoch 2/30\n",
      "281/281 [==============================] - 11s 39ms/step - loss: 1.6017 - accuracy: 0.6278 - precision: 0.9303 - val_loss: 1.5421 - val_accuracy: 0.6527 - val_precision: 0.9176\n",
      "Epoch 3/30\n",
      "281/281 [==============================] - 11s 39ms/step - loss: 1.4071 - accuracy: 0.6827 - precision: 0.9244 - val_loss: 1.4237 - val_accuracy: 0.6803 - val_precision: 0.9155\n",
      "Epoch 4/30\n",
      "281/281 [==============================] - 11s 40ms/step - loss: 1.2721 - accuracy: 0.7174 - precision: 0.9252 - val_loss: 1.3408 - val_accuracy: 0.7017 - val_precision: 0.9056\n",
      "Epoch 5/30\n",
      "281/281 [==============================] - 11s 39ms/step - loss: 1.1699 - accuracy: 0.7415 - precision: 0.9240 - val_loss: 1.2760 - val_accuracy: 0.7133 - val_precision: 0.8986\n",
      "Epoch 6/30\n",
      "281/281 [==============================] - 11s 39ms/step - loss: 1.0873 - accuracy: 0.7611 - precision: 0.9234 - val_loss: 1.2281 - val_accuracy: 0.7391 - val_precision: 0.9015\n",
      "Epoch 7/30\n",
      "281/281 [==============================] - 12s 42ms/step - loss: 1.0182 - accuracy: 0.7763 - precision: 0.9254 - val_loss: 1.1767 - val_accuracy: 0.7435 - val_precision: 0.8992\n",
      "Epoch 8/30\n",
      "281/281 [==============================] - 11s 41ms/step - loss: 0.9578 - accuracy: 0.7911 - precision: 0.9245 - val_loss: 1.1404 - val_accuracy: 0.7524 - val_precision: 0.9014\n",
      "Epoch 9/30\n",
      "281/281 [==============================] - 11s 41ms/step - loss: 0.9031 - accuracy: 0.8024 - precision: 0.9292 - val_loss: 1.1100 - val_accuracy: 0.7569 - val_precision: 0.9033\n",
      "Epoch 10/30\n",
      "281/281 [==============================] - 12s 42ms/step - loss: 0.8547 - accuracy: 0.8136 - precision: 0.9314 - val_loss: 1.0814 - val_accuracy: 0.7596 - val_precision: 0.8990\n",
      "Epoch 11/30\n",
      "281/281 [==============================] - 12s 43ms/step - loss: 0.8113 - accuracy: 0.8200 - precision: 0.9326 - val_loss: 1.0563 - val_accuracy: 0.7667 - val_precision: 0.8968\n",
      "Epoch 12/30\n",
      "281/281 [==============================] - 12s 43ms/step - loss: 0.7704 - accuracy: 0.8270 - precision: 0.9343 - val_loss: 1.0375 - val_accuracy: 0.7685 - val_precision: 0.9010\n",
      "Epoch 13/30\n",
      "281/281 [==============================] - 12s 43ms/step - loss: 0.7332 - accuracy: 0.8375 - precision: 0.9360 - val_loss: 1.0112 - val_accuracy: 0.7685 - val_precision: 0.9061\n",
      "Epoch 14/30\n",
      "281/281 [==============================] - 12s 43ms/step - loss: 0.6989 - accuracy: 0.8445 - precision: 0.9413 - val_loss: 0.9952 - val_accuracy: 0.7756 - val_precision: 0.9039\n",
      "Epoch 15/30\n",
      "281/281 [==============================] - 12s 44ms/step - loss: 0.6664 - accuracy: 0.8535 - precision: 0.9391 - val_loss: 0.9834 - val_accuracy: 0.7792 - val_precision: 0.8973\n",
      "Epoch 16/30\n",
      "281/281 [==============================] - 12s 41ms/step - loss: 0.6362 - accuracy: 0.8617 - precision: 0.9417 - val_loss: 0.9651 - val_accuracy: 0.7845 - val_precision: 0.9038\n",
      "Epoch 17/30\n",
      "281/281 [==============================] - 10s 35ms/step - loss: 0.6076 - accuracy: 0.8693 - precision: 0.9459 - val_loss: 0.9511 - val_accuracy: 0.7836 - val_precision: 0.8987\n",
      "Epoch 18/30\n",
      "281/281 [==============================] - 11s 39ms/step - loss: 0.5818 - accuracy: 0.8764 - precision: 0.9453 - val_loss: 0.9412 - val_accuracy: 0.7961 - val_precision: 0.8995\n",
      "Epoch 19/30\n",
      "281/281 [==============================] - 10s 37ms/step - loss: 0.5567 - accuracy: 0.8827 - precision: 0.9479 - val_loss: 0.9297 - val_accuracy: 0.7934 - val_precision: 0.9021\n",
      "Epoch 20/30\n",
      "281/281 [==============================] - 10s 34ms/step - loss: 0.5340 - accuracy: 0.8855 - precision: 0.9475 - val_loss: 0.9180 - val_accuracy: 0.7916 - val_precision: 0.9002\n",
      "Epoch 21/30\n",
      "281/281 [==============================] - 10s 35ms/step - loss: 0.5121 - accuracy: 0.8926 - precision: 0.9505 - val_loss: 0.9108 - val_accuracy: 0.7934 - val_precision: 0.8944\n",
      "Epoch 22/30\n",
      "281/281 [==============================] - 10s 35ms/step - loss: 0.4918 - accuracy: 0.8960 - precision: 0.9516 - val_loss: 0.9011 - val_accuracy: 0.7943 - val_precision: 0.8967\n",
      "Epoch 23/30\n",
      "281/281 [==============================] - 10s 34ms/step - loss: 0.4720 - accuracy: 0.8997 - precision: 0.9532 - val_loss: 0.8968 - val_accuracy: 0.7943 - val_precision: 0.8929\n",
      "Epoch 24/30\n",
      "281/281 [==============================] - 10s 35ms/step - loss: 0.4543 - accuracy: 0.9041 - precision: 0.9529 - val_loss: 0.8906 - val_accuracy: 0.7952 - val_precision: 0.8894\n",
      "Epoch 25/30\n",
      "281/281 [==============================] - 12s 43ms/step - loss: 0.4370 - accuracy: 0.9068 - precision: 0.9542 - val_loss: 0.8817 - val_accuracy: 0.7970 - val_precision: 0.8880\n",
      "Epoch 26/30\n",
      "281/281 [==============================] - 10s 36ms/step - loss: 0.4201 - accuracy: 0.9107 - precision: 0.9558 - val_loss: 0.8795 - val_accuracy: 0.7961 - val_precision: 0.8883\n",
      "Epoch 27/30\n",
      "281/281 [==============================] - 10s 35ms/step - loss: 0.4054 - accuracy: 0.9137 - precision: 0.9569 - val_loss: 0.8734 - val_accuracy: 0.7996 - val_precision: 0.8834\n",
      "Epoch 28/30\n",
      "281/281 [==============================] - 9s 33ms/step - loss: 0.3907 - accuracy: 0.9162 - precision: 0.9566 - val_loss: 0.8686 - val_accuracy: 0.7979 - val_precision: 0.8798\n",
      "Epoch 29/30\n",
      "281/281 [==============================] - 10s 34ms/step - loss: 0.3777 - accuracy: 0.9196 - precision: 0.9582 - val_loss: 0.8686 - val_accuracy: 0.8005 - val_precision: 0.8841\n",
      "Epoch 30/30\n",
      "281/281 [==============================] - 11s 40ms/step - loss: 0.3646 - accuracy: 0.9220 - precision: 0.9593 - val_loss: 0.8652 - val_accuracy: 0.8014 - val_precision: 0.8816\n"
     ]
    }
   ],
   "source": [
    "history = model.fit(\n",
    "    X_train,\n",
    "    Y_train,\n",
    "    epochs=30,\n",
    "    batch_size=32,\n",
    "    validation_data=(X_val, Y_val))"
   ]
  },
  {
   "cell_type": "code",
   "execution_count": 28,
   "metadata": {},
   "outputs": [
    {
     "data": {
      "image/png": "[encoded data removed]",
      "text/plain": [
       "<Figure size 1000x600 with 1 Axes>"
      ]
     },
     "metadata": {},
     "output_type": "display_data"
    }
   ],
   "source": [
    "import pandas as pd\n",
    "import matplotlib.pyplot as plt\n",
    "\n",
    "pd.DataFrame(history.history)[['loss', 'val_loss']].plot(figsize=(10, 6))\n",
    "plt.grid(True)\n",
    "plt.xlabel(\"epochs\")\n",
    "plt.ylabel(\"loss\")\n",
    "plt.show()"
   ]
  },
  {
   "cell_type": "code",
   "execution_count": 29,
   "metadata": {},
   "outputs": [
    {
     "data": {
      "image/png": "[encoded data removed]",
      "text/plain": [
       "<Figure size 1000x600 with 1 Axes>"
      ]
     },
     "metadata": {},
     "output_type": "display_data"
    }
   ],
   "source": [
    "pd.DataFrame(history.history)[['accuracy', 'val_accuracy']].plot(figsize=(10, 6))\n",
    "plt.grid(True)\n",
    "plt.xlabel(\"epochs\")\n",
    "plt.ylabel(\"accuracy\")\n",
    "plt.show()"
   ]
  },
  {
   "cell_type": "markdown",
   "metadata": {},
   "source": [
    "### Predicción con el subconjunto de datos de pruebas"
   ]
  },
  {
   "cell_type": "code",
   "execution_count": 30,
   "metadata": {},
   "outputs": [
    {
     "name": "stdout",
     "output_type": "stream",
     "text": [
      "36/36 [==============================] - 0s 11ms/step - loss: 0.8543 - accuracy: 0.7970 - precision: 0.8703\n"
     ]
    }
   ],
   "source": [
    "error, accuracy, precision = model.evaluate(X_test, Y_test)"
   ]
  },
  {
   "cell_type": "code",
   "execution_count": 31,
   "metadata": {},
   "outputs": [
    {
     "name": "stdout",
     "output_type": "stream",
     "text": [
      "Error:  0.8543432354927063\n",
      "Accuracy:  0.796972393989563\n",
      "Precision:  0.8703108429908752\n"
     ]
    }
   ],
   "source": [
    "print(\"Error: \", error)\n",
    "print(\"Accuracy: \", accuracy)\n",
    "print(\"Precision: \", precision)"
   ]
  },
  {
   "cell_type": "code",
   "execution_count": null,
   "metadata": {},
   "outputs": [],
   "source": []
  }
 ],
 "metadata": {
  "kernelspec": {
   "display_name": "Python 3",
   "language": "python",
   "name": "python3"
  },
  "language_info": {
   "codemirror_mode": {
    "name": "ipython",
    "version": 3
   },
   "file_extension": ".py",
   "mimetype": "text/x-python",
   "name": "python",
   "nbconvert_exporter": "python",
   "pygments_lexer": "ipython3",
   "version": "3.10.9"
  }
 },
 "nbformat": 4,
 "nbformat_minor": 4
}
